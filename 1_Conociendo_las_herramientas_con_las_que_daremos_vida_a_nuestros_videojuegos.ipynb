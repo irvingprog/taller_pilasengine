{
 "metadata": {
  "name": "",
  "signature": "sha256:6aa043a27a046661a0f75d46d026ebe42c99f5a580899592342313ec0b86a9bc"
 },
 "nbformat": 3,
 "nbformat_minor": 0,
 "worksheets": [
  {
   "cells": [
    {
     "cell_type": "heading",
     "level": 1,
     "metadata": {},
     "source": [
      "1. Conociendo las herramientas con las que daremos vida a nuestros videojuegos"
     ]
    },
    {
     "cell_type": "markdown",
     "metadata": {},
     "source": [
      "Se trabajar\u00e1 con el lenguaje de programaci\u00f3n <a href=\"#Python\">Python</a> y el framework para desarrollo de videojuegos <a href=\"#Pilas-Engine\">Pilas Engine</a>: se conocer\u00e1n las car\u00e1cteristicas, ventajas y desventajas de las herramientas. Se definir\u00e1 el flujo de trabajo."
     ]
    },
    {
     "cell_type": "markdown",
     "metadata": {},
     "source": [
      "---"
     ]
    },
    {
     "cell_type": "heading",
     "level": 2,
     "metadata": {},
     "source": [
      "Python"
     ]
    },
    {
     "cell_type": "code",
     "collapsed": false,
     "input": [
      "import this"
     ],
     "language": "python",
     "metadata": {},
     "outputs": [
      {
       "output_type": "stream",
       "stream": "stdout",
       "text": [
        "The Zen of Python, by Tim Peters\n",
        "\n",
        "Beautiful is better than ugly.\n",
        "Explicit is better than implicit.\n",
        "Simple is better than complex.\n",
        "Complex is better than complicated.\n",
        "Flat is better than nested.\n",
        "Sparse is better than dense.\n",
        "Readability counts.\n",
        "Special cases aren't special enough to break the rules.\n",
        "Although practicality beats purity.\n",
        "Errors should never pass silently.\n",
        "Unless explicitly silenced.\n",
        "In the face of ambiguity, refuse the temptation to guess.\n",
        "There should be one-- and preferably only one --obvious way to do it.\n",
        "Although that way may not be obvious at first unless you're Dutch.\n",
        "Now is better than never.\n",
        "Although never is often better than *right* now.\n",
        "If the implementation is hard to explain, it's a bad idea.\n",
        "If the implementation is easy to explain, it may be a good idea.\n",
        "Namespaces are one honking great idea -- let's do more of those!\n"
       ]
      }
     ],
     "prompt_number": 1
    },
    {
     "cell_type": "heading",
     "level": 3,
     "metadata": {},
     "source": [
      "\u00bfQu\u00e9 es?"
     ]
    },
    {
     "cell_type": "markdown",
     "metadata": {},
     "source": [
      "Python es un lenguaje de programaci\u00f3n creado por Guido van Rossum\n",
      "a principios de los a\u00f1os 90 cuyo nombre est\u00e1 inspirado en el grupo de\n",
      "c\u00f3micos ingleses \u201cMonty Python\u201d. Su sintaxis es limpia y favorece un c\u00f3digo legible.\n",
      "Se trata de un lenguaje interpretado o de script, con tipado din\u00e1mico,\n",
      "fuertemente tipado, multiplataforma y orientado a objetos. [1]"
     ]
    },
    {
     "cell_type": "heading",
     "level": 3,
     "metadata": {},
     "source": [
      "\u00bfPor qu\u00e9 Python?"
     ]
    },
    {
     "cell_type": "markdown",
     "metadata": {},
     "source": [
      "Su sintaxis simple, clara y sencilla; el tipado din\u00e1mico, el gestor de memoria, la\n",
      "gran cantidad de librer\u00edas disponibles y la potencia del lenguaje, entre\n",
      "otros, hacen que desarrollar una aplicaci\u00f3n en Python sea sencillo, muy\n",
      "r\u00e1pido y, lo que es m\u00e1s importante, divertido\n",
      "\n",
      "La sintaxis de Python es tan sencilla y cercana al lenguaje natural que\n",
      "los programas elaborados en Python parecen pseudoc\u00f3digo. Por este\n",
      "motivo se trata adem\u00e1s de uno de los mejores lenguajes para comenzar\n",
      "a programar. [1]"
     ]
    },
    {
     "cell_type": "markdown",
     "metadata": {},
     "source": [
      "<br \\>"
     ]
    },
    {
     "cell_type": "heading",
     "level": 3,
     "metadata": {},
     "source": [
      "Etiquetas o nombres(variables)"
     ]
    },
    {
     "cell_type": "code",
     "collapsed": false,
     "input": [
      "# Esto es un comentario, no se ejecuta\n",
      "# Hey estoy dando u curso :p"
     ],
     "language": "python",
     "metadata": {},
     "outputs": [],
     "prompt_number": 2
    },
    {
     "cell_type": "code",
     "collapsed": false,
     "input": [
      "nombre = 'Wolowitz' # String o cadena de texto\n",
      "print type(nombre)\n",
      "print nombre"
     ],
     "language": "python",
     "metadata": {},
     "outputs": [
      {
       "output_type": "stream",
       "stream": "stdout",
       "text": [
        "<type 'str'>\n",
        "Wolowitz\n"
       ]
      }
     ],
     "prompt_number": 3
    },
    {
     "cell_type": "code",
     "collapsed": false,
     "input": [
      "edad = 25 # numero entero\n",
      "print type(edad)\n",
      "print edad"
     ],
     "language": "python",
     "metadata": {},
     "outputs": [
      {
       "output_type": "stream",
       "stream": "stdout",
       "text": [
        "<type 'int'>\n",
        "25\n"
       ]
      }
     ],
     "prompt_number": 4
    },
    {
     "cell_type": "code",
     "collapsed": false,
     "input": [
      "estatura = 1.60 # numero flotante\n",
      "print type(estatura)\n",
      "print estatura"
     ],
     "language": "python",
     "metadata": {},
     "outputs": [
      {
       "output_type": "stream",
       "stream": "stdout",
       "text": [
        "<type 'float'>\n",
        "1.6\n"
       ]
      }
     ],
     "prompt_number": 5
    },
    {
     "cell_type": "code",
     "collapsed": false,
     "input": [
      "tiene_doctorado = False # Booleano\n",
      "print type(tiene_doctorado)\n",
      "print tiene_doctorado"
     ],
     "language": "python",
     "metadata": {},
     "outputs": [
      {
       "output_type": "stream",
       "stream": "stdout",
       "text": [
        "<type 'bool'>\n",
        "False\n"
       ]
      }
     ],
     "prompt_number": 6
    },
    {
     "cell_type": "code",
     "collapsed": false,
     "input": [
      "astronauta = True # Booleano\n",
      "print type(astronauta)\n",
      "print astronauta"
     ],
     "language": "python",
     "metadata": {},
     "outputs": [
      {
       "output_type": "stream",
       "stream": "stdout",
       "text": [
        "<type 'bool'>\n",
        "True\n"
       ]
      }
     ],
     "prompt_number": 7
    },
    {
     "cell_type": "code",
     "collapsed": false,
     "input": [
      "amigos = ['Leonard', 'Rajesh', 'Sheldon'] # lista\n",
      "amigos.append(\"Pedro\") # Append funciona para agregar m\u00e1s valores\n",
      "amigos.append(2)\n",
      "del amigos[1] # Borramos el elemento en la posici\u00f3n numero 1, el indice empieza por cero\n",
      "print type(amigos)\n",
      "print amigos"
     ],
     "language": "python",
     "metadata": {},
     "outputs": [
      {
       "output_type": "stream",
       "stream": "stdout",
       "text": [
        "<type 'list'>\n",
        "['Leonard', 'Sheldon', 'Pedro', 2]\n"
       ]
      }
     ],
     "prompt_number": 8
    },
    {
     "cell_type": "code",
     "collapsed": false,
     "input": [
      "amigas = ('Penny', 'Amy') # tupla\n",
      "print amigas\n",
      "print type(amigas)\n",
      "print amigas"
     ],
     "language": "python",
     "metadata": {},
     "outputs": [
      {
       "output_type": "stream",
       "stream": "stdout",
       "text": [
        "('Penny', 'Amy')\n",
        "<type 'tuple'>\n",
        "('Penny', 'Amy')\n"
       ]
      }
     ],
     "prompt_number": 9
    },
    {
     "cell_type": "code",
     "collapsed": false,
     "input": [
      "mi_nombre = raw_input('Cual es tu nombre? ')\n",
      "print \"\\nHola \"+ mi_nombre"
     ],
     "language": "python",
     "metadata": {},
     "outputs": [
      {
       "output_type": "stream",
       "stream": "stdout",
       "text": [
        "Cual es tu nombre? Pedro\n"
       ]
      },
      {
       "output_type": "stream",
       "stream": "stdout",
       "text": [
        "\n",
        "Hola Pedro\n"
       ]
      }
     ],
     "prompt_number": 10
    },
    {
     "cell_type": "code",
     "collapsed": false,
     "input": [
      "mi_edad = raw_input('Cual es tu edad? ')\n",
      "print \"Ya veo que tienes \" + str(mi_edad) + \" a\u00f1os\" # Especificamos el tipo de dato de mi_edad para poder sumarlo"
     ],
     "language": "python",
     "metadata": {},
     "outputs": [
      {
       "output_type": "stream",
       "stream": "stdout",
       "text": [
        "Cual es tu edad? 20\n"
       ]
      },
      {
       "output_type": "stream",
       "stream": "stdout",
       "text": [
        "Ya veo que tienes 20 a\u00f1os\n"
       ]
      }
     ],
     "prompt_number": 11
    },
    {
     "cell_type": "markdown",
     "metadata": {},
     "source": [
      "<br \\>"
     ]
    },
    {
     "cell_type": "heading",
     "level": 3,
     "metadata": {},
     "source": [
      "Funciones"
     ]
    },
    {
     "cell_type": "code",
     "collapsed": false,
     "input": [
      "def cenar(quien, con_quienes):\n",
      "    '''Imprimir quien est\u00e1 cenando y con quien'''\n",
      "    print quien + \" esta cenando con \" + str(con_quienes)"
     ],
     "language": "python",
     "metadata": {},
     "outputs": [],
     "prompt_number": 12
    },
    {
     "cell_type": "code",
     "collapsed": false,
     "input": [
      "cenar(nombre, amigos)"
     ],
     "language": "python",
     "metadata": {},
     "outputs": [
      {
       "output_type": "stream",
       "stream": "stdout",
       "text": [
        "Wolowitz esta cenando con ['Leonard', 'Sheldon', 'Pedro', 2]\n"
       ]
      }
     ],
     "prompt_number": 13
    },
    {
     "cell_type": "code",
     "collapsed": false,
     "input": [
      "cenar(nombre, amigas)"
     ],
     "language": "python",
     "metadata": {},
     "outputs": [
      {
       "output_type": "stream",
       "stream": "stdout",
       "text": [
        "Wolowitz esta cenando con ('Penny', 'Amy')\n"
       ]
      }
     ],
     "prompt_number": 14
    },
    {
     "cell_type": "code",
     "collapsed": false,
     "input": [
      "def sumar_edad(edad_actual, anios):\n",
      "    '''Sumar edad actual y anios'''\n",
      "    print \"Edad actual: {edad} mas {anios} a\u00f1os, ser\u00e1n: {suma_edad} a\u00f1os\".format(\n",
      "            edad=edad_actual, anios=anios, suma_edad=edad_actual + anios)"
     ],
     "language": "python",
     "metadata": {},
     "outputs": [],
     "prompt_number": 15
    },
    {
     "cell_type": "code",
     "collapsed": false,
     "input": [
      "sumar_edad(edad, 10)"
     ],
     "language": "python",
     "metadata": {},
     "outputs": [
      {
       "output_type": "stream",
       "stream": "stdout",
       "text": [
        "Edad actual: 25 mas 10 a\u00f1os, ser\u00e1n: 35 a\u00f1os\n"
       ]
      }
     ],
     "prompt_number": 16
    },
    {
     "cell_type": "code",
     "collapsed": false,
     "input": [
      "sumar_edad(20, 5)"
     ],
     "language": "python",
     "metadata": {},
     "outputs": [
      {
       "output_type": "stream",
       "stream": "stdout",
       "text": [
        "Edad actual: 20 mas 5 a\u00f1os, ser\u00e1n: 25 a\u00f1os\n"
       ]
      }
     ],
     "prompt_number": 17
    },
    {
     "cell_type": "markdown",
     "metadata": {},
     "source": [
      "<br \\>"
     ]
    },
    {
     "cell_type": "heading",
     "level": 3,
     "metadata": {},
     "source": [
      "Comparaciones y control de flujo"
     ]
    },
    {
     "cell_type": "code",
     "collapsed": false,
     "input": [
      "# edad = 25\n",
      "# nombre = 'Wolowitz'"
     ],
     "language": "python",
     "metadata": {},
     "outputs": [],
     "prompt_number": 18
    },
    {
     "cell_type": "code",
     "collapsed": false,
     "input": [
      "edad > 18"
     ],
     "language": "python",
     "metadata": {},
     "outputs": [
      {
       "metadata": {},
       "output_type": "pyout",
       "prompt_number": 19,
       "text": [
        "True"
       ]
      }
     ],
     "prompt_number": 19
    },
    {
     "cell_type": "code",
     "collapsed": false,
     "input": [
      "edad < 18"
     ],
     "language": "python",
     "metadata": {},
     "outputs": [
      {
       "metadata": {},
       "output_type": "pyout",
       "prompt_number": 20,
       "text": [
        "False"
       ]
      }
     ],
     "prompt_number": 20
    },
    {
     "cell_type": "code",
     "collapsed": false,
     "input": [
      "edad >= 19"
     ],
     "language": "python",
     "metadata": {},
     "outputs": [
      {
       "metadata": {},
       "output_type": "pyout",
       "prompt_number": 21,
       "text": [
        "True"
       ]
      }
     ],
     "prompt_number": 21
    },
    {
     "cell_type": "code",
     "collapsed": false,
     "input": [
      "nombre == 'Wolowitz'"
     ],
     "language": "python",
     "metadata": {},
     "outputs": [
      {
       "metadata": {},
       "output_type": "pyout",
       "prompt_number": 22,
       "text": [
        "True"
       ]
      }
     ],
     "prompt_number": 22
    },
    {
     "cell_type": "code",
     "collapsed": false,
     "input": [
      "nombre == 'Sheldon'"
     ],
     "language": "python",
     "metadata": {},
     "outputs": [
      {
       "metadata": {},
       "output_type": "pyout",
       "prompt_number": 23,
       "text": [
        "False"
       ]
      }
     ],
     "prompt_number": 23
    },
    {
     "cell_type": "code",
     "collapsed": false,
     "input": [
      "nombre != 'Sheldon'"
     ],
     "language": "python",
     "metadata": {},
     "outputs": [
      {
       "metadata": {},
       "output_type": "pyout",
       "prompt_number": 24,
       "text": [
        "True"
       ]
      }
     ],
     "prompt_number": 24
    },
    {
     "cell_type": "code",
     "collapsed": false,
     "input": [
      "not nombre == 'Sheldon'"
     ],
     "language": "python",
     "metadata": {},
     "outputs": [
      {
       "metadata": {},
       "output_type": "pyout",
       "prompt_number": 25,
       "text": [
        "True"
       ]
      }
     ],
     "prompt_number": 25
    },
    {
     "cell_type": "code",
     "collapsed": false,
     "input": [
      "\"Amy\" in amigas"
     ],
     "language": "python",
     "metadata": {},
     "outputs": [
      {
       "metadata": {},
       "output_type": "pyout",
       "prompt_number": 26,
       "text": [
        "True"
       ]
      }
     ],
     "prompt_number": 26
    },
    {
     "cell_type": "code",
     "collapsed": false,
     "input": [
      "if edad > 18:\n",
      "    print \"Hey, es mayor de edad\""
     ],
     "language": "python",
     "metadata": {},
     "outputs": [
      {
       "output_type": "stream",
       "stream": "stdout",
       "text": [
        "Hey, es mayor de edad\n"
       ]
      }
     ],
     "prompt_number": 27
    },
    {
     "cell_type": "code",
     "collapsed": false,
     "input": [
      "if nombre == 'Sheldon':\n",
      "    print \"Hey, se llama Sheldon\"\n",
      "else:\n",
      "    print \"Se llama \" + str(nombre)"
     ],
     "language": "python",
     "metadata": {},
     "outputs": [
      {
       "output_type": "stream",
       "stream": "stdout",
       "text": [
        "Se llama Wolowitz\n"
       ]
      }
     ]
    },
    {
     "cell_type": "markdown",
     "metadata": {},
     "source": [
      "<br \\>"
     ]
    },
    {
     "cell_type": "heading",
     "level": 3,
     "metadata": {},
     "source": [
      "Bucles"
     ]
    },
    {
     "cell_type": "heading",
     "level": 4,
     "metadata": {},
     "source": [
      "Bucle 'for'"
     ]
    },
    {
     "cell_type": "code",
     "collapsed": false,
     "input": [
      "for numero in range(10):\n",
      "    print numero"
     ],
     "language": "python",
     "metadata": {},
     "outputs": []
    },
    {
     "cell_type": "code",
     "collapsed": false,
     "input": [
      "range(10)"
     ],
     "language": "python",
     "metadata": {},
     "outputs": []
    },
    {
     "cell_type": "code",
     "collapsed": false,
     "input": [
      "for numero in [0, 1, 2, 3, 4, 5, 6, 7, 8, 9]:\n",
      "    print numero"
     ],
     "language": "python",
     "metadata": {},
     "outputs": []
    },
    {
     "cell_type": "code",
     "collapsed": false,
     "input": [
      "for amigo in amigos:\n",
      "    print amigo"
     ],
     "language": "python",
     "metadata": {},
     "outputs": []
    },
    {
     "cell_type": "code",
     "collapsed": false,
     "input": [
      "for amiga in amigas:\n",
      "    print amiga"
     ],
     "language": "python",
     "metadata": {},
     "outputs": []
    },
    {
     "cell_type": "code",
     "collapsed": false,
     "input": [
      "for numero in range(5):\n",
      "    sumar_edad(numero, 10)"
     ],
     "language": "python",
     "metadata": {},
     "outputs": []
    },
    {
     "cell_type": "heading",
     "level": 4,
     "metadata": {},
     "source": [
      "Bucle 'while'"
     ]
    },
    {
     "cell_type": "code",
     "collapsed": false,
     "input": [
      "# Aumentando edad\n",
      "edad_nueva = edad\n",
      "print \"Edad antes del bucle while: {edad}\".format(edad=edad_nueva)\n",
      "\n",
      "while edad_nueva < 35:\n",
      "    edad_nueva += 1\n",
      "\n",
      "print \"Edad despu\u00e9s del bucle while: {edad}\".format(edad=edad_nueva)"
     ],
     "language": "python",
     "metadata": {},
     "outputs": []
    },
    {
     "cell_type": "code",
     "collapsed": false,
     "input": [
      "# Ciclo de vida\n",
      "edad_nueva = edad\n",
      "print edad_nueva\n",
      "\n",
      "vivo = True\n",
      "while vivo:\n",
      "    edad_nueva += 1\n",
      "    if edad_nueva == 80:\n",
      "        print \"Tiene 80 a\u00f1os: Muere\"\n",
      "        vivo = False\n",
      "\n",
      "print edad_nueva"
     ],
     "language": "python",
     "metadata": {},
     "outputs": []
    },
    {
     "cell_type": "markdown",
     "metadata": {},
     "source": [
      "<br \\>"
     ]
    },
    {
     "cell_type": "heading",
     "level": 3,
     "metadata": {},
     "source": [
      "Clases y objetos"
     ]
    },
    {
     "cell_type": "markdown",
     "metadata": {},
     "source": [
      "La Programaci\u00f3n Orientada a Objetos (POO u OOP seg\u00fan sus siglas\n",
      "en ingl\u00e9s) es un paradigma de programaci\u00f3n en el que los conceptos\n",
      "del mundo real relevantes para nuestro problema se modelan a trav\u00e9s\n",
      "de clases y objetos, y en el que nuestro programa consiste en una serie\n",
      "de interacciones entre estos objetos.[1]"
     ]
    },
    {
     "cell_type": "heading",
     "level": 4,
     "metadata": {},
     "source": [
      "Objeto"
     ]
    },
    {
     "cell_type": "markdown",
     "metadata": {},
     "source": [
      "Un objeto es una entidad que agrupa un\n",
      "estado y una funcionalidad relacionadas. El estado del objeto se define\n",
      "a trav\u00e9s de variables llamadas atributos, mientras que la funcionalidad\n",
      "se modela a trav\u00e9s de funciones a las que se les conoce con el nombre\n",
      "de m\u00e9todos del objeto.[1]"
     ]
    },
    {
     "cell_type": "heading",
     "level": 4,
     "metadata": {},
     "source": [
      "Clase"
     ]
    },
    {
     "cell_type": "markdown",
     "metadata": {},
     "source": [
      "Una clase es  una plantilla gen\u00e9rica a partir\n",
      "de la cu\u00e1l instanciar los objetos; plantilla que es la que define qu\u00e9 atributos y m\u00e9todos tendr\u00e1n los objetos de esa clase. [1]"
     ]
    },
    {
     "cell_type": "code",
     "collapsed": false,
     "input": [
      "class Persona:\n",
      "    def __init__(self):\n",
      "        self.nombre = \"\"\n",
      "        self.edad = None\n",
      "        self.estatura = None"
     ],
     "language": "python",
     "metadata": {},
     "outputs": []
    },
    {
     "cell_type": "code",
     "collapsed": false,
     "input": [
      "persona1 = Persona() # Creamos el objeto Persona\n",
      "\n",
      "print persona1"
     ],
     "language": "python",
     "metadata": {},
     "outputs": []
    },
    {
     "cell_type": "code",
     "collapsed": false,
     "input": [
      "print persona1.nombre\n",
      "print persona1.edad\n",
      "print persona1.estatura"
     ],
     "language": "python",
     "metadata": {},
     "outputs": []
    },
    {
     "cell_type": "code",
     "collapsed": false,
     "input": [
      "# Modificar atributos del objeto\n",
      "persona1.nombre = \"Wolowitz\"\n",
      "persona1.edad = 25\n",
      "persona1.estatura = 1.65\n",
      "\n",
      "print persona1.nombre\n",
      "print persona1.edad\n",
      "print persona1.estatura"
     ],
     "language": "python",
     "metadata": {},
     "outputs": []
    },
    {
     "cell_type": "heading",
     "level": 3,
     "metadata": {},
     "source": [
      "Descarga"
     ]
    },
    {
     "cell_type": "markdown",
     "metadata": {},
     "source": [
      "https://www.python.org/download/releases/2.7.6/"
     ]
    },
    {
     "cell_type": "heading",
     "level": 3,
     "metadata": {},
     "source": [
      "Documentaci\u00f3n Oficial"
     ]
    },
    {
     "cell_type": "markdown",
     "metadata": {},
     "source": [
      "https://www.python.org/doc/"
     ]
    },
    {
     "cell_type": "heading",
     "level": 3,
     "metadata": {},
     "source": [
      "Documentaci\u00f3n-gu\u00eda r\u00e1pida"
     ]
    },
    {
     "cell_type": "markdown",
     "metadata": {},
     "source": [
      "http://docs.python-guide.org/"
     ]
    },
    {
     "cell_type": "heading",
     "level": 3,
     "metadata": {},
     "source": [
      "Aprende m\u00e1s:"
     ]
    },
    {
     "cell_type": "markdown",
     "metadata": {},
     "source": [
      "http://mundogeek.net/traducciones/modismos-python.htm\n",
      "\n",
      "http://mundogeek.net/traducciones/python-idiomatico/\n",
      "\n",
      "http://www.tutorialspoint.com/python/"
     ]
    },
    {
     "cell_type": "markdown",
     "metadata": {},
     "source": [
      "---"
     ]
    },
    {
     "cell_type": "markdown",
     "metadata": {},
     "source": [
      "Irving Rodr\u00edguez<br />\n",
      "irving [dot] prog [at] gmail [dot] com"
     ]
    },
    {
     "cell_type": "heading",
     "level": 3,
     "metadata": {},
     "source": [
      "Referencias"
     ]
    },
    {
     "cell_type": "markdown",
     "metadata": {},
     "source": [
      "[1] Python para todos, Ra\u00fal Gonz\u00e1lez Duque."
     ]
    }
   ],
   "metadata": {}
  }
 ]
}