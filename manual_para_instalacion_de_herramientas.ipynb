{
 "metadata": {
  "name": "",
  "signature": "sha256:7bf929f65778ece2905806a73d3fb34574b33449202141c911de9240f231a33e"
 },
 "nbformat": 3,
 "nbformat_minor": 0,
 "worksheets": [
  {
   "cells": [
    {
     "cell_type": "heading",
     "level": 1,
     "metadata": {},
     "source": [
      "Creaci\u00f3n de videojuegos 2D con Pilas Engine: Manual para instalaci\u00f3n de herramientas"
     ]
    },
    {
     "cell_type": "heading",
     "level": 2,
     "metadata": {},
     "source": [
      "Sofware Principal"
     ]
    },
    {
     "cell_type": "heading",
     "level": 2,
     "metadata": {},
     "source": [
      "Python"
     ]
    },
    {
     "cell_type": "markdown",
     "metadata": {},
     "source": [
      "Python es un lenguaje de programaci\u00f3n creado por Guido van Rossum a principios de los a\u00f1os 90 cuyo nombre est\u00e1 inspirado en el grupo de c\u00f3micos ingleses \u201cMonty Python\u201d. Su sintaxis es limpia y favorece un c\u00f3digo legible. Se trata de un lenguaje interpretado o de script, con tipado din\u00e1mico, fuertemente tipado, multiplataforma y orientado a objetos. [1]"
     ]
    },
    {
     "cell_type": "markdown",
     "metadata": {},
     "source": [
      "<b>Versi\u00f3n: 2.7.x</b>\n",
      "\n",
      "<b>Sitio Web:</b> https://www.python.org/\n",
      "\n",
      "<b>Descargas:</b> https://www.python.org/downloads/"
     ]
    },
    {
     "cell_type": "heading",
     "level": 3,
     "metadata": {},
     "source": [
      "GNU/Linux"
     ]
    },
    {
     "cell_type": "markdown",
     "metadata": {},
     "source": [
      "En todas las distribuciones(Ubuntu, Fedora, Linux Mint, etc) de GNU/Linux viene instalado Python, por lo general la versi\u00f3n que necesitamos: <b>2.7.x</b>.\n",
      "\n",
      "Si vas a instalar una distribuci\u00f3n de GNU/Linux, te recomiendo Ubuntu ya que con esa distribuci\u00f3n trabajaremos en el laboratorio.\n",
      "\n",
      "Parar comprobar que Python est\u00e1 instalado puedes abrir una <b>Terminal o Consola</b> y escribir en minusculas <b>python</b>, deber\u00e1 aparecer un mensaje c\u00f3mo el siguiente:\n",
      "\n",
      "    Python 2.7.6 (default, Mar 22 2014, 22:59:38)\n",
      "    [GCC 4.8.2] on linux2\n",
      "    Type \"help\", \"copyright\", \"credits\" or \"license\" for more information."
     ]
    },
    {
     "cell_type": "heading",
     "level": 3,
     "metadata": {},
     "source": [
      "Windows"
     ]
    },
    {
     "cell_type": "markdown",
     "metadata": {},
     "source": [
      "Primero debes descargar el archivo ejecutable de Python desde el sitio web: https://www.python.org/downloads/, recuerda descargar la versi\u00f3n: 2.7.x\n",
      "\n",
      "Cuando lo hayas descargado: haz doble clic sobre el archivo y sigue la instrucciones para la instalaci\u00f3n.\n",
      "\n",
      "Al terminar la instalaci\u00f3n puedes ir al men\u00fa de inicio y encontrar\u00e1s Python instalado, al dar clic sobre el se abrir\u00e1 una consola y ver\u00e1s un mensaje parecido al siguiente:\n",
      "\n",
      "    Python 2.7.6 (default, Mar 22 2014, 22:59:38)\n",
      "    [GCC 4.8.2] on linux2\n",
      "    Type \"help\", \"copyright\", \"credits\" or \"license\" for more information.\n",
      "    \n"
     ]
    },
    {
     "cell_type": "heading",
     "level": 3,
     "metadata": {},
     "source": [
      "MAC OSx"
     ]
    },
    {
     "cell_type": "markdown",
     "metadata": {},
     "source": [
      "Apartir de la versi\u00f3n Mavericks Python viene instalado, abre una <b>Terminal o Consola</b> y escribe <b>python</b>, ver\u00e1s un mensaje parecido al siguiente:\n",
      "\n",
      "    Python 2.7.6 (default, Mar 22 2014, 22:59:38)\n",
      "    [GCC 4.8.2] on linux2\n",
      "    Type \"help\", \"copyright\", \"credits\" or \"license\" for more information"
     ]
    },
    {
     "cell_type": "heading",
     "level": 2,
     "metadata": {},
     "source": [
      "Pilas Engine"
     ]
    },
    {
     "cell_type": "markdown",
     "metadata": {},
     "source": [
      "Pilas es una herramienta para construir videojuegos de manera sencilla y did\u00e1ctica. Tambi\u00e9n conocido como\n",
      "\u201cmotor\u201d o \u201cbiblioteca\u201d de videojuegos.\n",
      "\n",
      "Pilas est\u00e1 focalizado en ofrecer ayuda a los desarrolladores de juegos casuales y novatos que quieran hacer sus\n",
      "primeros videojuegos, ofreciendo una colecci\u00f3n importante de actores, escenas predise\u00f1adas y rutinas para facilitar\n",
      "las tareas m\u00e1s comunes del desarrollo."
     ]
    },
    {
     "cell_type": "markdown",
     "metadata": {},
     "source": [
      "<b>Versi\u00f3n:</b> Desarrollo 0.90.x\n",
      "\n",
      "<b>Sitio Web:</b> http://pilas-engine.com.ar/\n",
      "\n",
      "<b>Repositorio del proyecto(descarga):</b> https://github.com/hugoruscitti/python-pilas-experimental"
     ]
    },
    {
     "cell_type": "heading",
     "level": 3,
     "metadata": {},
     "source": [
      "GNU/Linux"
     ]
    },
    {
     "cell_type": "markdown",
     "metadata": {},
     "source": [
      "Es necesario realizar la instalaci\u00f3n de dependencias de software para el correcto funcionamiento de Pilas Engine, seg\u00fan la distribuci\u00f3n de GNU/Linux que manejes algunos comandos pueden ser diferentes, a continuaci\u00f3n ver\u00e1s los comandos que funcionan en Ubuntu/Debian:\n",
      "\n",
      "Abre una <b>Terminal o consola</b>\n",
      "\n",
      "introducir tu contrase\u00f1a de superusuario cuando ejecutes el primer comando.\n",
      "\n",
      "Instalar Git: Es un sistema para control de versiones:\n",
      "    \n",
      "    sudo apt-get install git-core\n",
      "    \n",
      "Instalar recursos para desarrollo en Python:\n",
      "\n",
      "    sudo apt-get install python-setuptools python-dev\n",
      "    \n",
      "Instalar PyQt4: es el Kit que contiene los elementos gr\u00e1ficos con los que est\u00e1 construido Pilas Engine:\n",
      "\n",
      "    sudo apt-get python-qt4 python-qt4-gl\n",
      "\n",
      "Instalar Pygame: Es una librer\u00eda para desarrollo de videojuegos en Python, la utilizamos para gestionar el audio:\n",
      "\n",
      "    sudo apt-get install python-pygame\n",
      "    \n",
      "Al haber terminado la instalaci\u00f3n de dependencias proceder\u00e1s a descargar Pilas Engine desde su repositorio donde almacenamos y gestionamos las mejoras al proyecto.\n",
      "\n",
      "Ejecuta el siguiente comando:\n",
      "\n",
      "    git clone https://github.com/hugoruscitti/python-pilas-experimental.git\n",
      "\n",
      "Posteriormente a haber descargado Pilas Engie deber\u00e1s meterte al directorio del proyecto, para ello:\n",
      "\n",
      "    cd python-pilas-experimental\n",
      "\n",
      "Instalas Pilas Engine:\n",
      "\n",
      "    sudo python setup.py develop\n",
      "    \n",
      "Ahora ya tienes Pilas Engine instalado: para comprobar la instalaci\u00f3n, en una Terminal ejecuta:\n",
      "\n",
      "    pilasengine"
     ]
    },
    {
     "cell_type": "heading",
     "level": 3,
     "metadata": {},
     "source": [
      "Windows"
     ]
    },
    {
     "cell_type": "markdown",
     "metadata": {},
     "source": [
      "Pendiente ========"
     ]
    },
    {
     "cell_type": "heading",
     "level": 2,
     "metadata": {},
     "source": [
      "Editor de c\u00f3digo: recomendado NINJA IDE"
     ]
    },
    {
     "cell_type": "markdown",
     "metadata": {},
     "source": [
      "NINJA-IDE started as a project focused at providing an IDE specially designed for Python Applications Development, with this scope in mind, we put our ninja-skills into the development of a free and open source project which grows based on the community's necessities."
     ]
    },
    {
     "cell_type": "markdown",
     "metadata": {},
     "source": [
      "<b>Sitio Web</b>: http://ninja-ide.org\n",
      "\n",
      "<b>Descargas</b>: http://ninja-ide.org/downloads/"
     ]
    },
    {
     "cell_type": "heading",
     "level": 3,
     "metadata": {},
     "source": [
      "Para GNU/Linux, Windows y MAC OSX"
     ]
    },
    {
     "cell_type": "markdown",
     "metadata": {},
     "source": [
      "Entra a la p\u00e1gina de descargas http://ninja-ide.org/downloads/ y seleciona el paquete seg\u00fan tu sistema operativo, realiza la instalaci\u00f3n.\n",
      "\n",
      "En el laboratorio utilizamos NINJA IDE"
     ]
    },
    {
     "cell_type": "heading",
     "level": 3,
     "metadata": {},
     "source": [
      "Otras opciones de editores de c\u00f3digo"
     ]
    },
    {
     "cell_type": "markdown",
     "metadata": {},
     "source": [
      "- SublimeText\n",
      "- Notepad++\n",
      "- Gedit\n",
      "- Geany\n",
      "- Eclipse + Pydev"
     ]
    },
    {
     "cell_type": "heading",
     "level": 2,
     "metadata": {},
     "source": [
      "Software Extra"
     ]
    },
    {
     "cell_type": "markdown",
     "metadata": {},
     "source": [
      "Por ahora s\u00f3lo redactar\u00e9 c\u00f3mo instalar las herramientas extras sobre GNU/Linux, para los dem\u00e1s sistemas operativos pueden entrar a los respectivos sitios web de cada herramienta y revisar el proceso de instalaci\u00f3n."
     ]
    },
    {
     "cell_type": "heading",
     "level": 3,
     "metadata": {},
     "source": [
      "Ipython"
     ]
    },
    {
     "cell_type": "markdown",
     "metadata": {},
     "source": [
      "Es un interprete de python mejorado, con autocompletado de sintaxis y otras \"hierbas\"\n",
      "\n",
      "Ipython notebook es la versi\u00f3n web del interprete de Python"
     ]
    },
    {
     "cell_type": "markdown",
     "metadata": {},
     "source": [
      "Instalaci\u00f3n en Ubuntu/Debian:\n",
      "    \n",
      "    sudo apt-get install ipython ipython notebook\n",
      "   \n",
      "Comprobar instalaci\u00f3n:\n",
      "\n",
      "    ipython\n",
      "    \n",
      "    ipython notebook"
     ]
    },
    {
     "cell_type": "markdown",
     "metadata": {},
     "source": [
      "<b>Sitio Web:</b> http://ipython.org/"
     ]
    },
    {
     "cell_type": "heading",
     "level": 3,
     "metadata": {},
     "source": [
      "Terminator"
     ]
    },
    {
     "cell_type": "markdown",
     "metadata": {},
     "source": [
      "Es una terminal o consola mejorada s\u00f3lo para <b>GNU/Linux</b>, principalmente nos enfrece la caracter\u00edstica de abrir varias sesiones de consola en una misma ventana."
     ]
    },
    {
     "cell_type": "markdown",
     "metadata": {},
     "source": [
      "Instalaci\u00f3n en Ubuntu/Debian:\n",
      "\n",
      "    sudo apt-get install ipython terminator\n",
      "  \n",
      "Comprobar instalaci\u00f3n:\n",
      "\n",
      "En el men\u00fa de inicio deber\u00eda de aparecer la aplicaci\u00f3n \u00f3:\n",
      "\n",
      "    terminator"
     ]
    }
   ],
   "metadata": {}
  }
 ]
}