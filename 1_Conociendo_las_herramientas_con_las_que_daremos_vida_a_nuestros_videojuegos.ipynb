{
 "metadata": {
  "name": "",
  "signature": "sha256:c567d930005e22fba94deafe49c95fea8efb2da2829ab48b73b5c5a335661cf2"
 },
 "nbformat": 3,
 "nbformat_minor": 0,
 "worksheets": [
  {
   "cells": [
    {
     "cell_type": "heading",
     "level": 1,
     "metadata": {},
     "source": [
      "1. Conociendo las herramientas con las que daremos vida a nuestros videojuegos"
     ]
    },
    {
     "cell_type": "markdown",
     "metadata": {},
     "source": [
      "Se trabajar\u00e1 con el lenguaje de programaci\u00f3n <a href=\"#Python\">Python</a> y el framework para desarrollo de videojuegos <a href=\"#Pilas-Engine\">Pilas Engine</a>: se conocer\u00e1n las car\u00e1cteristicas, ventajas y desventajas de las herramientas. Se definir\u00e1 el flujo de trabajo."
     ]
    },
    {
     "cell_type": "markdown",
     "metadata": {},
     "source": [
      "---"
     ]
    },
    {
     "cell_type": "heading",
     "level": 2,
     "metadata": {},
     "source": [
      "Python"
     ]
    },
    {
     "cell_type": "code",
     "collapsed": false,
     "input": [
      "import this"
     ],
     "language": "python",
     "metadata": {},
     "outputs": [],
     "prompt_number": 44
    },
    {
     "cell_type": "heading",
     "level": 3,
     "metadata": {},
     "source": [
      "\u00bfQu\u00e9 es?"
     ]
    },
    {
     "cell_type": "markdown",
     "metadata": {},
     "source": [
      "Python es un lenguaje de programaci\u00f3n creado por Guido van Rossum\n",
      "a principios de los a\u00f1os 90 cuyo nombre est\u00e1 inspirado en el grupo de\n",
      "c\u00f3micos ingleses \u201cMonty Python\u201d. Su sintaxis es limpia y favorece un c\u00f3digo legible.\n",
      "Se trata de un lenguaje interpretado o de script, con tipado din\u00e1mico,\n",
      "fuertemente tipado, multiplataforma y orientado a objetos. [1]"
     ]
    },
    {
     "cell_type": "heading",
     "level": 3,
     "metadata": {},
     "source": [
      "\u00bfPor qu\u00e9 Python?"
     ]
    },
    {
     "cell_type": "markdown",
     "metadata": {},
     "source": [
      "Su sintaxis simple, clara y sencilla; el tipado din\u00e1mico, el gestor de memoria, la\n",
      "gran cantidad de librer\u00edas disponibles y la potencia del lenguaje, entre\n",
      "otros, hacen que desarrollar una aplicaci\u00f3n en Python sea sencillo, muy\n",
      "r\u00e1pido y, lo que es m\u00e1s importante, divertido\n",
      "\n",
      "La sintaxis de Python es tan sencilla y cercana al lenguaje natural que\n",
      "los programas elaborados en Python parecen pseudoc\u00f3digo. Por este\n",
      "motivo se trata adem\u00e1s de uno de los mejores lenguajes para comenzar\n",
      "a programar. [1]"
     ]
    },
    {
     "cell_type": "markdown",
     "metadata": {},
     "source": [
      "<br \\>"
     ]
    },
    {
     "cell_type": "heading",
     "level": 3,
     "metadata": {},
     "source": [
      "Etiquetas o nombres(variables)"
     ]
    },
    {
     "cell_type": "code",
     "collapsed": false,
     "input": [
      "# Esto es un comentario, no se ejecuta\n",
      "# Hey estoy dando u curso :p"
     ],
     "language": "python",
     "metadata": {},
     "outputs": [],
     "prompt_number": 45
    },
    {
     "cell_type": "code",
     "collapsed": false,
     "input": [
      "nombre = 'Wolowitz' # String o cadena de texto\n",
      "print type(nombre)\n",
      "print nombre"
     ],
     "language": "python",
     "metadata": {},
     "outputs": [
      {
       "output_type": "stream",
       "stream": "stdout",
       "text": [
        "<type 'str'>\n",
        "Wolowitz\n"
       ]
      }
     ],
     "prompt_number": 46
    },
    {
     "cell_type": "code",
     "collapsed": false,
     "input": [
      "edad = 25 # numero entero\n",
      "print type(edad)\n",
      "print edad"
     ],
     "language": "python",
     "metadata": {},
     "outputs": [
      {
       "output_type": "stream",
       "stream": "stdout",
       "text": [
        "<type 'int'>\n",
        "25\n"
       ]
      }
     ],
     "prompt_number": 47
    },
    {
     "cell_type": "code",
     "collapsed": false,
     "input": [
      "estatura = 1.60 # numero flotante\n",
      "print type(estatura)\n",
      "print estatura"
     ],
     "language": "python",
     "metadata": {},
     "outputs": [
      {
       "output_type": "stream",
       "stream": "stdout",
       "text": [
        "<type 'float'>\n",
        "1.6\n"
       ]
      }
     ],
     "prompt_number": 48
    },
    {
     "cell_type": "code",
     "collapsed": false,
     "input": [
      "tiene_doctorado = False # Booleano\n",
      "print type(tiene_doctorado)\n",
      "print tiene_doctorado"
     ],
     "language": "python",
     "metadata": {},
     "outputs": [
      {
       "output_type": "stream",
       "stream": "stdout",
       "text": [
        "<type 'bool'>\n",
        "False\n"
       ]
      }
     ],
     "prompt_number": 49
    },
    {
     "cell_type": "code",
     "collapsed": false,
     "input": [
      "astronauta = True # Booleano\n",
      "print type(astronauta)\n",
      "print astronauta"
     ],
     "language": "python",
     "metadata": {},
     "outputs": [
      {
       "output_type": "stream",
       "stream": "stdout",
       "text": [
        "<type 'bool'>\n",
        "True\n"
       ]
      }
     ],
     "prompt_number": 50
    },
    {
     "cell_type": "code",
     "collapsed": false,
     "input": [
      "amigos = ['Leonard', 'Rajesh', 'Sheldon'] # lista\n",
      "amigos.append(\"Pedro\") # Append funciona para agregar m\u00e1s valores\n",
      "amigos.append(2)\n",
      "del amigos[1] # Borramos el elemento en la posici\u00f3n numero 1, el indice empieza por cero\n",
      "print type(amigos)\n",
      "print amigos"
     ],
     "language": "python",
     "metadata": {},
     "outputs": [
      {
       "output_type": "stream",
       "stream": "stdout",
       "text": [
        "<type 'list'>\n",
        "['Leonard', 'Sheldon', 'Pedro', 2]\n"
       ]
      }
     ],
     "prompt_number": 51
    },
    {
     "cell_type": "code",
     "collapsed": false,
     "input": [
      "amigas = ('Penny', 'Amy') # tupla\n",
      "print amigas\n",
      "print type(amigas)\n",
      "print amigas"
     ],
     "language": "python",
     "metadata": {},
     "outputs": [
      {
       "output_type": "stream",
       "stream": "stdout",
       "text": [
        "('Penny', 'Amy')\n",
        "<type 'tuple'>\n",
        "('Penny', 'Amy')\n"
       ]
      }
     ],
     "prompt_number": 52
    },
    {
     "cell_type": "code",
     "collapsed": false,
     "input": [
      "mi_nombre = raw_input('Cual es tu nombre? ')\n",
      "print \"\\nHola \"+ mi_nombre"
     ],
     "language": "python",
     "metadata": {},
     "outputs": [
      {
       "output_type": "stream",
       "stream": "stdout",
       "text": [
        "Cual es tu nombre? Pedro\n"
       ]
      },
      {
       "output_type": "stream",
       "stream": "stdout",
       "text": [
        "\n",
        "Hola Pedro\n"
       ]
      }
     ],
     "prompt_number": 53
    },
    {
     "cell_type": "code",
     "collapsed": false,
     "input": [
      "mi_edad = raw_input('Cual es tu edad? ')\n",
      "print \"Ya veo que tienes \" + str(mi_edad) + \" a\u00f1os\" # Especificamos el tipo de dato de mi_edad para poder sumarlo"
     ],
     "language": "python",
     "metadata": {},
     "outputs": [
      {
       "output_type": "stream",
       "stream": "stdout",
       "text": [
        "Cual es tu edad? 20\n"
       ]
      },
      {
       "output_type": "stream",
       "stream": "stdout",
       "text": [
        "Ya veo que tienes 20 a\u00f1os\n"
       ]
      }
     ],
     "prompt_number": 54
    },
    {
     "cell_type": "markdown",
     "metadata": {},
     "source": [
      "<br \\>"
     ]
    },
    {
     "cell_type": "heading",
     "level": 3,
     "metadata": {},
     "source": [
      "Funciones"
     ]
    },
    {
     "cell_type": "code",
     "collapsed": false,
     "input": [
      "def cenar(quien, con_quienes):\n",
      "    '''Imprimir quien est\u00e1 cenando y con quien'''\n",
      "    print quien + \" esta cenando con \" + str(con_quienes)"
     ],
     "language": "python",
     "metadata": {},
     "outputs": [],
     "prompt_number": 55
    },
    {
     "cell_type": "code",
     "collapsed": false,
     "input": [
      "cenar(nombre, amigos)"
     ],
     "language": "python",
     "metadata": {},
     "outputs": [
      {
       "output_type": "stream",
       "stream": "stdout",
       "text": [
        "Wolowitz esta cenando con ['Leonard', 'Sheldon', 'Pedro', 2]\n"
       ]
      }
     ],
     "prompt_number": 56
    },
    {
     "cell_type": "code",
     "collapsed": false,
     "input": [
      "cenar(nombre, amigas)"
     ],
     "language": "python",
     "metadata": {},
     "outputs": [
      {
       "output_type": "stream",
       "stream": "stdout",
       "text": [
        "Wolowitz esta cenando con ('Penny', 'Amy')\n"
       ]
      }
     ],
     "prompt_number": 57
    },
    {
     "cell_type": "code",
     "collapsed": false,
     "input": [
      "def sumar_edad(edad_actual, anios):\n",
      "    '''Sumar edad actual y anios'''\n",
      "    print \"Edad actual: {edad} mas {anios} a\u00f1os, ser\u00e1n: {suma_edad} a\u00f1os\".format(\n",
      "            edad=edad_actual, anios=anios, suma_edad=edad_actual + anios)"
     ],
     "language": "python",
     "metadata": {},
     "outputs": [],
     "prompt_number": 58
    },
    {
     "cell_type": "code",
     "collapsed": false,
     "input": [
      "sumar_edad(edad, 10)"
     ],
     "language": "python",
     "metadata": {},
     "outputs": [
      {
       "output_type": "stream",
       "stream": "stdout",
       "text": [
        "Edad actual: 25 mas 10 a\u00f1os, ser\u00e1n: 35 a\u00f1os\n"
       ]
      }
     ],
     "prompt_number": 59
    },
    {
     "cell_type": "code",
     "collapsed": false,
     "input": [
      "sumar_edad(20, 5)"
     ],
     "language": "python",
     "metadata": {},
     "outputs": [
      {
       "output_type": "stream",
       "stream": "stdout",
       "text": [
        "Edad actual: 20 mas 5 a\u00f1os, ser\u00e1n: 25 a\u00f1os\n"
       ]
      }
     ],
     "prompt_number": 60
    },
    {
     "cell_type": "markdown",
     "metadata": {},
     "source": [
      "<br \\>"
     ]
    },
    {
     "cell_type": "heading",
     "level": 3,
     "metadata": {},
     "source": [
      "Comparaciones y control de flujo"
     ]
    },
    {
     "cell_type": "code",
     "collapsed": false,
     "input": [
      "# edad = 25\n",
      "# nombre = 'Wolowitz'"
     ],
     "language": "python",
     "metadata": {},
     "outputs": [],
     "prompt_number": 61
    },
    {
     "cell_type": "code",
     "collapsed": false,
     "input": [
      "edad > 18"
     ],
     "language": "python",
     "metadata": {},
     "outputs": [
      {
       "metadata": {},
       "output_type": "pyout",
       "prompt_number": 62,
       "text": [
        "True"
       ]
      }
     ],
     "prompt_number": 62
    },
    {
     "cell_type": "code",
     "collapsed": false,
     "input": [
      "edad < 18"
     ],
     "language": "python",
     "metadata": {},
     "outputs": [
      {
       "metadata": {},
       "output_type": "pyout",
       "prompt_number": 63,
       "text": [
        "False"
       ]
      }
     ],
     "prompt_number": 63
    },
    {
     "cell_type": "code",
     "collapsed": false,
     "input": [
      "edad >= 19"
     ],
     "language": "python",
     "metadata": {},
     "outputs": [
      {
       "metadata": {},
       "output_type": "pyout",
       "prompt_number": 64,
       "text": [
        "True"
       ]
      }
     ],
     "prompt_number": 64
    },
    {
     "cell_type": "code",
     "collapsed": false,
     "input": [
      "nombre == 'Wolowitz'"
     ],
     "language": "python",
     "metadata": {},
     "outputs": [
      {
       "metadata": {},
       "output_type": "pyout",
       "prompt_number": 65,
       "text": [
        "True"
       ]
      }
     ],
     "prompt_number": 65
    },
    {
     "cell_type": "code",
     "collapsed": false,
     "input": [
      "nombre == 'Sheldon'"
     ],
     "language": "python",
     "metadata": {},
     "outputs": [
      {
       "metadata": {},
       "output_type": "pyout",
       "prompt_number": 66,
       "text": [
        "False"
       ]
      }
     ],
     "prompt_number": 66
    },
    {
     "cell_type": "code",
     "collapsed": false,
     "input": [
      "nombre != 'Sheldon'"
     ],
     "language": "python",
     "metadata": {},
     "outputs": [
      {
       "metadata": {},
       "output_type": "pyout",
       "prompt_number": 67,
       "text": [
        "True"
       ]
      }
     ],
     "prompt_number": 67
    },
    {
     "cell_type": "code",
     "collapsed": false,
     "input": [
      "not nombre == 'Sheldon'"
     ],
     "language": "python",
     "metadata": {},
     "outputs": [
      {
       "metadata": {},
       "output_type": "pyout",
       "prompt_number": 68,
       "text": [
        "True"
       ]
      }
     ],
     "prompt_number": 68
    },
    {
     "cell_type": "code",
     "collapsed": false,
     "input": [
      "\"Amy\" in amigas"
     ],
     "language": "python",
     "metadata": {},
     "outputs": [
      {
       "metadata": {},
       "output_type": "pyout",
       "prompt_number": 69,
       "text": [
        "True"
       ]
      }
     ],
     "prompt_number": 69
    },
    {
     "cell_type": "code",
     "collapsed": false,
     "input": [
      "if edad > 18:\n",
      "    print \"Hey, es mayor de edad\""
     ],
     "language": "python",
     "metadata": {},
     "outputs": [
      {
       "output_type": "stream",
       "stream": "stdout",
       "text": [
        "Hey, es mayor de edad\n"
       ]
      }
     ],
     "prompt_number": 70
    },
    {
     "cell_type": "code",
     "collapsed": false,
     "input": [
      "if nombre == 'Sheldon':\n",
      "    print \"Hey, se llama Sheldon\"\n",
      "else:\n",
      "    print \"Se llama \" + str(nombre)"
     ],
     "language": "python",
     "metadata": {},
     "outputs": [
      {
       "output_type": "stream",
       "stream": "stdout",
       "text": [
        "Se llama Wolowitz\n"
       ]
      }
     ],
     "prompt_number": 71
    },
    {
     "cell_type": "markdown",
     "metadata": {},
     "source": [
      "<br \\>"
     ]
    },
    {
     "cell_type": "heading",
     "level": 3,
     "metadata": {},
     "source": [
      "Bucles"
     ]
    },
    {
     "cell_type": "heading",
     "level": 4,
     "metadata": {},
     "source": [
      "Bucle 'for'"
     ]
    },
    {
     "cell_type": "code",
     "collapsed": false,
     "input": [
      "for numero in range(10):\n",
      "    print numero"
     ],
     "language": "python",
     "metadata": {},
     "outputs": [
      {
       "output_type": "stream",
       "stream": "stdout",
       "text": [
        "0\n",
        "1\n",
        "2\n",
        "3\n",
        "4\n",
        "5\n",
        "6\n",
        "7\n",
        "8\n",
        "9\n"
       ]
      }
     ],
     "prompt_number": 72
    },
    {
     "cell_type": "code",
     "collapsed": false,
     "input": [
      "range(10)"
     ],
     "language": "python",
     "metadata": {},
     "outputs": [
      {
       "metadata": {},
       "output_type": "pyout",
       "prompt_number": 73,
       "text": [
        "[0, 1, 2, 3, 4, 5, 6, 7, 8, 9]"
       ]
      }
     ],
     "prompt_number": 73
    },
    {
     "cell_type": "code",
     "collapsed": false,
     "input": [
      "for numero in [0, 1, 2, 3, 4, 5, 6, 7, 8, 9]:\n",
      "    print numero"
     ],
     "language": "python",
     "metadata": {},
     "outputs": [
      {
       "output_type": "stream",
       "stream": "stdout",
       "text": [
        "0\n",
        "1\n",
        "2\n",
        "3\n",
        "4\n",
        "5\n",
        "6\n",
        "7\n",
        "8\n",
        "9\n"
       ]
      }
     ],
     "prompt_number": 74
    },
    {
     "cell_type": "code",
     "collapsed": false,
     "input": [
      "for amigo in amigos:\n",
      "    print amigo"
     ],
     "language": "python",
     "metadata": {},
     "outputs": [
      {
       "output_type": "stream",
       "stream": "stdout",
       "text": [
        "Leonard\n",
        "Sheldon\n",
        "Pedro\n",
        "2\n"
       ]
      }
     ],
     "prompt_number": 75
    },
    {
     "cell_type": "code",
     "collapsed": false,
     "input": [
      "for amiga in amigas:\n",
      "    print amiga"
     ],
     "language": "python",
     "metadata": {},
     "outputs": [
      {
       "output_type": "stream",
       "stream": "stdout",
       "text": [
        "Penny\n",
        "Amy\n"
       ]
      }
     ],
     "prompt_number": 76
    },
    {
     "cell_type": "code",
     "collapsed": false,
     "input": [
      "for numero in range(5):\n",
      "    sumar_edad(numero, 10)"
     ],
     "language": "python",
     "metadata": {},
     "outputs": [
      {
       "output_type": "stream",
       "stream": "stdout",
       "text": [
        "Edad actual: 0 mas 10 a\u00f1os, ser\u00e1n: 10 a\u00f1os\n",
        "Edad actual: 1 mas 10 a\u00f1os, ser\u00e1n: 11 a\u00f1os\n",
        "Edad actual: 2 mas 10 a\u00f1os, ser\u00e1n: 12 a\u00f1os\n",
        "Edad actual: 3 mas 10 a\u00f1os, ser\u00e1n: 13 a\u00f1os\n",
        "Edad actual: 4 mas 10 a\u00f1os, ser\u00e1n: 14 a\u00f1os\n"
       ]
      }
     ],
     "prompt_number": 77
    },
    {
     "cell_type": "heading",
     "level": 4,
     "metadata": {},
     "source": [
      "Bucle 'while'"
     ]
    },
    {
     "cell_type": "code",
     "collapsed": false,
     "input": [
      "# Aumentando edad\n",
      "edad_nueva = edad\n",
      "print \"Edad antes del bucle while: {edad}\".format(edad=edad_nueva)\n",
      "\n",
      "while edad_nueva < 35:\n",
      "    edad_nueva += 1\n",
      "\n",
      "print \"Edad despu\u00e9s del bucle while: {edad}\".format(edad=edad_nueva)"
     ],
     "language": "python",
     "metadata": {},
     "outputs": [
      {
       "output_type": "stream",
       "stream": "stdout",
       "text": [
        "Edad antes del bucle while: 25\n",
        "Edad despu\u00e9s del bucle while: 35\n"
       ]
      }
     ],
     "prompt_number": 78
    },
    {
     "cell_type": "code",
     "collapsed": false,
     "input": [
      "# Ciclo de vida\n",
      "edad_nueva = edad\n",
      "print edad_nueva\n",
      "\n",
      "vivo = True\n",
      "while vivo:\n",
      "    edad_nueva += 1\n",
      "    if edad_nueva == 80:\n",
      "        print \"Tiene 80 a\u00f1os: Muere\"\n",
      "        vivo = False\n",
      "\n",
      "print edad_nueva"
     ],
     "language": "python",
     "metadata": {},
     "outputs": [
      {
       "output_type": "stream",
       "stream": "stdout",
       "text": [
        "25\n",
        "Tiene 80 a\u00f1os: Muere\n",
        "80\n"
       ]
      }
     ],
     "prompt_number": 79
    },
    {
     "cell_type": "markdown",
     "metadata": {},
     "source": [
      "<br \\>"
     ]
    },
    {
     "cell_type": "heading",
     "level": 3,
     "metadata": {},
     "source": [
      "Clases y objetos"
     ]
    },
    {
     "cell_type": "markdown",
     "metadata": {},
     "source": [
      "La Programaci\u00f3n Orientada a Objetos (POO u OOP seg\u00fan sus siglas\n",
      "en ingl\u00e9s) es un paradigma de programaci\u00f3n en el que los conceptos\n",
      "del mundo real relevantes para nuestro problema se modelan a trav\u00e9s\n",
      "de clases y objetos, y en el que nuestro programa consiste en una serie\n",
      "de interacciones entre estos objetos.[1]"
     ]
    },
    {
     "cell_type": "heading",
     "level": 4,
     "metadata": {},
     "source": [
      "Objeto"
     ]
    },
    {
     "cell_type": "markdown",
     "metadata": {},
     "source": [
      "Un objeto es una entidad que agrupa un\n",
      "estado y una funcionalidad relacionadas. El estado del objeto se define\n",
      "a trav\u00e9s de variables llamadas atributos, mientras que la funcionalidad\n",
      "se modela a trav\u00e9s de funciones a las que se les conoce con el nombre\n",
      "de m\u00e9todos del objeto.[1]"
     ]
    },
    {
     "cell_type": "heading",
     "level": 4,
     "metadata": {},
     "source": [
      "Clase"
     ]
    },
    {
     "cell_type": "markdown",
     "metadata": {},
     "source": [
      "Una clase es  una plantilla gen\u00e9rica a partir\n",
      "de la cu\u00e1l instanciar los objetos; plantilla que es la que define qu\u00e9 atributos y m\u00e9todos tendr\u00e1n los objetos de esa clase. [1]"
     ]
    },
    {
     "cell_type": "code",
     "collapsed": false,
     "input": [
      "class Persona:\n",
      "    def __init__(self):\n",
      "        self.nombre = \"\"\n",
      "        self.edad = None\n",
      "        self.estatura = None"
     ],
     "language": "python",
     "metadata": {},
     "outputs": [],
     "prompt_number": 80
    },
    {
     "cell_type": "code",
     "collapsed": false,
     "input": [
      "persona1 = Persona() # Creamos el objeto Persona\n",
      "\n",
      "print persona1"
     ],
     "language": "python",
     "metadata": {},
     "outputs": [
      {
       "output_type": "stream",
       "stream": "stdout",
       "text": [
        "<__main__.Persona instance at 0xb29d888c>\n"
       ]
      }
     ],
     "prompt_number": 81
    },
    {
     "cell_type": "code",
     "collapsed": false,
     "input": [
      "print persona1.nombre\n",
      "print persona1.edad\n",
      "print persona1.estatura"
     ],
     "language": "python",
     "metadata": {},
     "outputs": [
      {
       "output_type": "stream",
       "stream": "stdout",
       "text": [
        "\n",
        "None\n",
        "None\n"
       ]
      }
     ],
     "prompt_number": 82
    },
    {
     "cell_type": "code",
     "collapsed": false,
     "input": [
      "# Modificar atributos del objeto\n",
      "persona1.nombre = \"Wolowitz\"\n",
      "persona1.edad = 25\n",
      "persona1.estatura = 1.65\n",
      "\n",
      "print persona1.nombre\n",
      "print persona1.edad\n",
      "print persona1.estatura"
     ],
     "language": "python",
     "metadata": {},
     "outputs": [
      {
       "output_type": "stream",
       "stream": "stdout",
       "text": [
        "Wolowitz\n",
        "25\n",
        "1.65\n"
       ]
      }
     ],
     "prompt_number": 83
    },
    {
     "cell_type": "heading",
     "level": 3,
     "metadata": {},
     "source": [
      "Descarga"
     ]
    },
    {
     "cell_type": "markdown",
     "metadata": {},
     "source": [
      "https://www.python.org/download/releases/2.7.6/"
     ]
    },
    {
     "cell_type": "heading",
     "level": 3,
     "metadata": {},
     "source": [
      "Documentaci\u00f3n Oficial"
     ]
    },
    {
     "cell_type": "markdown",
     "metadata": {},
     "source": [
      "https://www.python.org/doc/"
     ]
    },
    {
     "cell_type": "heading",
     "level": 3,
     "metadata": {},
     "source": [
      "Documentaci\u00f3n-gu\u00eda r\u00e1pida"
     ]
    },
    {
     "cell_type": "markdown",
     "metadata": {},
     "source": [
      "http://docs.python-guide.org/"
     ]
    },
    {
     "cell_type": "heading",
     "level": 3,
     "metadata": {},
     "source": [
      "Aprende m\u00e1s:"
     ]
    },
    {
     "cell_type": "markdown",
     "metadata": {},
     "source": [
      "http://mundogeek.net/traducciones/modismos-python.htm\n",
      "\n",
      "http://mundogeek.net/traducciones/python-idiomatico/\n",
      "\n",
      "http://www.tutorialspoint.com/python/"
     ]
    },
    {
     "cell_type": "markdown",
     "metadata": {},
     "source": [
      "---"
     ]
    },
    {
     "cell_type": "markdown",
     "metadata": {},
     "source": [
      "Irving Rodr\u00edguez<br />\n",
      "irving [dot] prog [at] gmail [dot] com"
     ]
    },
    {
     "cell_type": "heading",
     "level": 3,
     "metadata": {},
     "source": [
      "Referencias"
     ]
    },
    {
     "cell_type": "markdown",
     "metadata": {},
     "source": [
      "[1] Python para todos, Ra\u00fal Gonz\u00e1lez Duque."
     ]
    }
   ],
   "metadata": {}
  }
 ]
}