{
 "metadata": {
  "name": "",
  "signature": "sha256:7a88e3ea36b0fdb3b29091c92f85d2fa15166b6e25e97a46bf3f6e3b5b712e69"
 },
 "nbformat": 3,
 "nbformat_minor": 0,
 "worksheets": [
  {
   "cells": [
    {
     "cell_type": "heading",
     "level": 1,
     "metadata": {},
     "source": [
      "Creaci\u00f3n de videojuegos 2D con Pilas Engine"
     ]
    },
    {
     "cell_type": "markdown",
     "metadata": {},
     "source": [
      "<img style=\"width=300px; height: 500px\"src=\"files/images/cartel_taller_pilas_itcm.png\" />"
     ]
    },
    {
     "cell_type": "heading",
     "level": 2,
     "metadata": {},
     "source": [
      "Presentaci\u00f3n:"
     ]
    },
    {
     "cell_type": "markdown",
     "metadata": {},
     "source": [
      "El desarrollo de juegos de computadora es una actividad desafiante, interactiva, y creativa en la que podemos volcar nuestra imaginaci\u00f3n, adem\u00e1s es multidisciplinaria: est\u00e1n involucradas actividades de programaci\u00f3n, dise\u00f1o gr\u00e1fico, producci\u00f3n y creaci\u00f3n de audio, dise\u00f1o de niveles, etc.\n",
      "\n",
      "En este taller principalmente abordaremos el tema de programaci\u00f3n utilizando c\u00f3mo lenguaje de programaci\u00f3n Python y Pilas Engine c\u00f3mo framework de desarrollo.\n",
      "\n",
      "Partiremos desde lo general: conociendo las herramientas que utilizaremos y su utilidad en el taller. llegaremos hasta lo particular lo cual implica desarrollar y convertir una idea propia en un videojuego e ir encarando y resolviendo cada uno de los problemas que enfrentemos en el desarrollo.\n",
      "\n",
      "A lo largo del taller los participantes tendr\u00e1n la oportunidad de exponer a sus compa\u00f1eros problemas del desarrollo de su videojuego que no puedan resolver: para llegar a una soluci\u00f3n con la aportaci\u00f3n de todos los participantes. \n",
      "\n",
      "Finalizando el taller cada participante platicar\u00e1 el proceso de creaci\u00f3n de su videojuego al grupo: explicando su idea inicial, el resultado que esperaba obtener, el resultado final, el dise\u00f1o de su c\u00f3digo y el porqu\u00e9 del mismo, as\u00ed c\u00f3mo los elementos que le parecieron m\u00e1s desafiantes de desarrollar. Esto con el fin de obtener retroalimentaci\u00f3n y motivaci\u00f3n para seguir aprendiendo.\n"
     ]
    },
    {
     "cell_type": "heading",
     "level": 2,
     "metadata": {},
     "source": [
      "Justificaci\u00f3n:"
     ]
    },
    {
     "cell_type": "markdown",
     "metadata": {},
     "source": [
      "Desde 2012 he venido impartiendo talleres y charlas en eventos, tanto en el ITCM c\u00f3mo en otras instituciones educativas sobre la creaci\u00f3n de videojuegos 2D utilizando herramientas de software libre c\u00f3mo una actividad que fomenta y pract\u00edca la creatividad, el descubrimiento, el auto-aprendizaje y la invenci\u00f3n, adem\u00e1s desarrolla o incrementa nuestras habilidades de programaci\u00f3n de software. En todas las ocasiones los asistentes han respondido entusiasmados, con ganas de aprender m\u00e1s, lamentablemente hay muchas inquietudes que no pueden cubrirse en un par de horas.\n",
      "\n",
      "Es por ello la raz\u00f3n de este taller, con el fin de introducir y/o ampliar los conceptos sobre creaci\u00f3n de videojuegos 2D para que cada de los participantes recorra el camino desde la concepci\u00f3n de una idea para su videojuego hasta la construcci\u00f3n del mismo, compartiendo a la vez su proceso de aprendizaje con otras personas."
     ]
    },
    {
     "cell_type": "heading",
     "level": 2,
     "metadata": {},
     "source": [
      "Objetivo:"
     ]
    },
    {
     "cell_type": "markdown",
     "metadata": {},
     "source": [
      "Proveer los conceptos, t\u00e9cnicas, practicas y herramientas para la creaci\u00f3n de videojuegos 2D con el fin de que el participante cree un videojuego 2D partiendo de una idea propia."
     ]
    },
    {
     "cell_type": "heading",
     "level": 2,
     "metadata": {},
     "source": [
      "Contenido:"
     ]
    },
    {
     "cell_type": "markdown",
     "metadata": {},
     "source": [
      "<h6>1. Conociendo las herramientas con las que daremos vida a nuestros videojuegos</h6>\n",
      "\n",
      "Se trabajar\u00e1 con el lenguaje de programaci\u00f3n <a href=\"http://python.org/\">Python</a> y el framework para desarrollo de videojuegos <a href=\"http://pilas-engine.com.ar\">Pilas Engine</a>: se conocer\u00e1n las car\u00e1cteristicas, ventajas y desventajas de las herramientas. Se definir\u00e1 el flujo de trabajo.\n",
      "\n",
      "<h6>2. Conceptos del desarrollo de videojuegos 2D</h6>\n",
      "\n",
      "En este tema se analizaran ejemplos de videojuegos con el fin de identificar sus elementos y su funcionamiento, se conoceran y reconoceran las diferentes disciplinas aplicadas de la creaci\u00f3n de videojuegos. Se definir\u00e1 y modelar\u00e1 la idea del videojuego ha realizar a lo largo de la duraci\u00f3n del taller.\n",
      "\n",
      "<h6>3. Descubriendo las entra\u00f1as de Pilas Engine</h6>\n",
      "\n",
      "El taller estar\u00e1 guiado por el marco de trabajo que nos ofrece Pilas Engine, para comprender y aprender a utilizar cada uno de los elementos que componen un videojuego se ir\u00e1n analizando ejemplos y explicando caracter\u00edsticas con el fin de implementar los conocimientos en el desarrollo de nuestra idea de videojuego.\n",
      "\n",
      "<h6>3.1. Actores</h6>\n",
      "\n",
      "Los actores representan cualquier elemento gr\u00e1fico dentro de nuestro videojuego, c\u00f3mo por ejemplo un personaje, el puntaje que va incrementando cada vez que recojes una moneda o incluso el men\u00fa de inicio. Conoceremos cual es la estructura de un actor y c\u00f3mo crear los propios para nuestro videojuego.\n",
      "\n",
      "<h6>3.2. Habilidades</h6>\n",
      "\n",
      "Dotar de habilidades a los actores de nuestro videojuegos es c\u00f3mo darles super poderes, la habilidad de correr a la velocidad de la luz, de teletransportarse, de volar, de  saltar muy pero muy alto!, son s\u00f3lo algunas ideas, al conocer la c\u00f3mo crear una habilidad podr\u00e1s echar a volar tu imaginaci\u00f3n para construir la habilidad que desees. \n",
      "\n",
      "<h6>3.3. Comportamientos</h6>\n",
      "\n",
      "Los comportamientos son peque\u00f1as o grandes tareas que hacen los actores, un enemigo resguardando una puerta dando repetidas vueltas de izquierda a derecha o de arriba a abajo evitando que tu h\u00e9roe pase: es s\u00f3lo una de las muchas ideas que puedes convertir a comportamientos.\n",
      "\n",
      "<h6>3.4. Escenas</h6>\n",
      "\n",
      "Los videojuegos comunmente contiene una escena de men\u00fa con las opciones y acciones principales a realizar: c\u00f3mo empezar a jugar, tiene una escena de juego en donde todos los actores est\u00e1n interactuando y tu a la vez con ellos atrav\u00e9s del teclado o el mouse, una escena de cr\u00e9ditos d\u00f3nde est\u00e1 el nombre de los creadores y mucha informaci\u00f3n m\u00e1s. Es indispensable conocer estos elementos para estructurar nuestros videojuegos.\n",
      "\n",
      "<h6>3.5. Tareas</h6>\n",
      "\n",
      "Las tareas nos permiten realizar acciones peri\u00f3dicamente, por ejemplo notificarte cada 3 horas que debes alimentar a tu personaje, llevarlo al gimnasio, o mejor a\u00fan: que haga esas tareas por si mismo.\n",
      "\n",
      "<h6>3.6. Eventos</h6>\n",
      "\n",
      "Los eventos es una excelente forma en los actores o cualquier elemento de nuestro videojuego se puede comunicar entre si. Imagina que es c\u00f3mo comunicarse en un chat grupal pero entre actore de tu videojuego.\n",
      "\n",
      "<h6>3.7. Sistema de colisiones</h6>\n",
      "\n",
      "Aplastar una tortuga para debilitarla, que la bala de una arma mate al enemigo, muros que no puedes traspasar, pasadisos secretos, son s\u00f3lo alguna situaciones que tendr\u00e1s que implantar en tus videojuegos, para ello es necesario tener un sistema de colisiones que detecte la posici\u00f3n de los actores y ejecute las acciones que tu desees.\n",
      "\n",
      "<h6>3.8. Motor de f\u00edsica</h6>\n",
      "\n",
      "Crear mundos virtuales para nuestros videojuegos que tengan semenjanzas con la realidad es muchas veces necesario, el motor de f\u00edsicas nos permite hacer que un actor con forma de pelota o caja se comporten c\u00f3mo tal, podamos empujarlos, impulsarlos, arrastrarlos, entre muchas otras acciones.\n",
      "\n",
      "<h6>3.9. Controles</h6>\n",
      "\n",
      "Los videojuegos se caracterizan por darnos la oportunidad de interactuar con lo que pasa dentro de ellos ya sea atrav\u00e9s de el teclado, el mouse o incluso un control de consola. Este tema estar\u00e1 enfocado a conocer los controles, aprender c\u00f3mo gestionarlos e implementarlos en nuestro videojuego."
     ]
    },
    {
     "cell_type": "heading",
     "level": 2,
     "metadata": {},
     "source": [
      "Fuentes de informaci\u00f3n:"
     ]
    },
    {
     "cell_type": "markdown",
     "metadata": {},
     "source": [
      "https://www.python.org\n",
      "\n",
      "http://pilas-engine.com.ar\n",
      "\n",
      "http://inventwithpython.com\n",
      "\n",
      "http://www.ceibal.edu.uy/contenidos/areas_conocimiento/aportes/python_para_todos.pdf"
     ]
    },
    {
     "cell_type": "heading",
     "level": 2,
     "metadata": {},
     "source": [
      "Recursos did\u00e1cticos:"
     ]
    },
    {
     "cell_type": "markdown",
     "metadata": {},
     "source": [
      "http://hugoruscitti.github.io/pilas-tutoriales/\n",
      "\n",
      "http://www.educ.ar/sitios/educar/recursos/ver?id=122993"
     ]
    },
    {
     "cell_type": "markdown",
     "metadata": {},
     "source": [
      "\n",
      "Irving Rodr\u00edguez<br />\n",
      "\n",
      "irving [dot] prog [at] gmail [dot] com"
     ]
    },
    {
     "cell_type": "code",
     "collapsed": false,
     "input": [
      "import IPython.core.display\n",
      "IPython.core.display.HTML(\"\"\"\n",
      "<style type=\"text/css\">\n",
      "div.input {\n",
      "width: 105ex; /* about 80 chars + buffer */\n",
      "}\n",
      " \n",
      "div.text_cell {\n",
      "width: 105ex /* instead of 100%, */\n",
      "margin: 0 auto;\n",
      "}\n",
      " \n",
      "div.text_cell_render {\n",
      "font-family: \"Helvetica Neue\", Arial, Helvetica, Geneva, sans-serif;\n",
      "line-height: 180%; /* added for a line spacing of text. */\n",
      "text-indent: 50px;\n",
      "font-size: 1.1em;\n",
      "width: 105ex; /* instead of 'inherit' for shorter lines */\n",
      "margin: 0 auto;\n",
      "}\n",
      " \n",
      "/* Set the size of the headers */\n",
      "div.text_cell_render h1 {\n",
      "font-size: 18pt;\n",
      "}\n",
      " \n",
      "div.text_cell_render h2 {\n",
      "font-size: 14pt;\n",
      "}\n",
      " \n",
      ".CodeMirror {\n",
      " font-family: Consolas, monospace;\n",
      " }\n",
      " \n",
      ".rendered_html ol {list-style:decimal; margin: 1em 2em;}\n",
      " \n",
      "</style>\n",
      "\"\"\")"
     ],
     "language": "python",
     "metadata": {},
     "outputs": [
      {
       "html": [
        "\n",
        "<style type=\"text/css\">\n",
        "div.input {\n",
        "width: 105ex; /* about 80 chars + buffer */\n",
        "}\n",
        " \n",
        "div.text_cell {\n",
        "width: 105ex /* instead of 100%, */\n",
        "margin: 0 auto;\n",
        "}\n",
        " \n",
        "div.text_cell_render {\n",
        "font-family: \"Helvetica Neue\", Arial, Helvetica, Geneva, sans-serif;\n",
        "line-height: 180%; /* added for a line spacing of text. */\n",
        "text-indent: 50px;\n",
        "font-size: 1.1em;\n",
        "width: 105ex; /* instead of 'inherit' for shorter lines */\n",
        "margin: 0 auto;\n",
        "}\n",
        " \n",
        "/* Set the size of the headers */\n",
        "div.text_cell_render h1 {\n",
        "font-size: 18pt;\n",
        "}\n",
        " \n",
        "div.text_cell_render h2 {\n",
        "font-size: 14pt;\n",
        "}\n",
        " \n",
        ".CodeMirror {\n",
        " font-family: Consolas, monospace;\n",
        " }\n",
        " \n",
        ".rendered_html ol {list-style:decimal; margin: 1em 2em;}\n",
        " \n",
        "</style>\n"
       ],
       "metadata": {},
       "output_type": "pyout",
       "prompt_number": 3,
       "text": [
        "<IPython.core.display.HTML object>"
       ]
      }
     ],
     "prompt_number": 3
    },
    {
     "cell_type": "code",
     "collapsed": false,
     "input": [],
     "language": "python",
     "metadata": {},
     "outputs": []
    }
   ],
   "metadata": {}
  }
 ]
}